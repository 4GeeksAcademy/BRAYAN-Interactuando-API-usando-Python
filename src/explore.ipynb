{
    "cells": [
        {
            "cell_type": "markdown",
            "metadata": {},
            "source": [
                "# Explore here"
            ]
        },
        {
            "cell_type": "code",
            "execution_count": 1,
            "metadata": {},
            "outputs": [
                {
                    "data": {
                        "text/plain": [
                            "True"
                        ]
                    },
                    "execution_count": 1,
                    "metadata": {},
                    "output_type": "execute_result"
                }
            ],
            "source": [
                "import os\n",
                "import pandas as pd\n",
                "import matplotlib.pyplot as plt\n",
                "from dotenv import load_dotenv\n",
                "import spotipy\n",
                "from spotipy.oauth2 import SpotifyClientCredentials\n",
                "\n",
                "# load the .env file variables\n",
                "load_dotenv()\n",
                "\n"
            ]
        },
        {
            "cell_type": "code",
            "execution_count": 2,
            "metadata": {},
            "outputs": [
                {
                    "name": "stdout",
                    "output_type": "stream",
                    "text": [
                        "                          name  popularity duration\n",
                        "0                       Crimen          77    03:52\n",
                        "1                        Adiós          74    03:53\n",
                        "2                         Vivo          72    04:20\n",
                        "3                       Puente          72    04:33\n",
                        "4                      Deja Vu          69    03:24\n",
                        "5             Lago en el Cielo          69    05:08\n",
                        "6                       Cactus          68    03:54\n",
                        "7                     Bocanada          68    04:06\n",
                        "8  Te Llevo para Que Me Lleves          65    03:44\n",
                        "9                Me Quedo Aquí          64    03:37\n"
                    ]
                }
            ],
            "source": [
                "# Configuración de Spotify mi id y contraseña\n",
                "client_id = os.environ.get(\"CLIENT_ID\")\n",
                "client_secret = os.environ.get(\"CLIENT_SECRET\")\n",
                "auth_manager = SpotifyClientCredentials(client_id=client_id, client_secret=client_secret)\n",
                "spotify = spotipy.Spotify(auth_manager=auth_manager)\n",
                "\n",
                "# Las canciones más populares de mi artista favorito\n",
                "artist_id = \"1QOmebWGB6FdFtW7Bo3F0W\"\n",
                "results = spotify.artist_top_tracks(artist_id)\n",
                "\n",
                "# Creando una lista de canciones de mi artista \n",
                "songs = []\n",
                "for track in results['tracks']:\n",
                "    duration_min = track['duration_ms'] / 60000\n",
                "    duration_str = f\"{int(duration_min // 1):02d}:{int((duration_min % 1) * 60):02d}\"\n",
                "    songs.append({\n",
                "        'name': track['name'],\n",
                "        'popularity': track['popularity'],\n",
                "        'duration': duration_str\n",
                "    })\n",
                "\n",
                "# Creando un DataFrame\n",
                "df = pd.DataFrame(songs)\n",
                "\n",
                "# Mostrando el DataFrame\n",
                "print(df)"
            ]
        }
    ],
    "metadata": {
        "kernelspec": {
            "display_name": "Python 3",
            "language": "python",
            "name": "python3"
        },
        "language_info": {
            "codemirror_mode": {
                "name": "ipython",
                "version": 3
            },
            "file_extension": ".py",
            "mimetype": "text/x-python",
            "name": "python",
            "nbconvert_exporter": "python",
            "pygments_lexer": "ipython3",
            "version": "3.11.4"
        },
        "orig_nbformat": 4
    },
    "nbformat": 4,
    "nbformat_minor": 2
}
